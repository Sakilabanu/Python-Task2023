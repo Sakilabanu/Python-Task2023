{
 "cells": [
  {
   "cell_type": "markdown",
   "id": "3d6a524e",
   "metadata": {},
   "source": [
    "# Task - 7"
   ]
  },
  {
   "cell_type": "code",
   "execution_count": 24,
   "id": "351c1882",
   "metadata": {
    "scrolled": true
   },
   "outputs": [
    {
     "name": "stdout",
     "output_type": "stream",
     "text": [
      "Date and time is: 2023-10-27 21:25:21.248638\n",
      "Timestamp is: 1698413121.248638\n"
     ]
    }
   ],
   "source": [
    "#1) Write a Python program using Function to which will do the following:-\n",
    "    #a) The function will create a text file with the current timestamp.\n",
    "from datetime import datetime\n",
    "\n",
    "# Getting the current date and time\n",
    "dt = datetime.now()\n",
    "\n",
    "# getting the timestamp\n",
    "ts = datetime.timestamp(dt)\n",
    "\n",
    "print(\"Date and time is:\", dt)\n",
    "print(\"Timestamp is:\", ts)\n",
    "\n",
    "\n",
    "file = open(r\"C:\\Users\\sahbi\\filehandling\\file4.txt.\",\"x\")\n",
    "file.close()"
   ]
  },
  {
   "cell_type": "code",
   "execution_count": 22,
   "id": "efab0db8",
   "metadata": {},
   "outputs": [],
   "source": [
    "#b)The file content should have the content of the current timestamp.\n",
    "\n",
    "f=open(r\"C:\\Users\\sahbi\\filehandling\\file3.txt.\",\"a\")\n",
    "f.write(\"Current Time stamp:\")\n",
    "f.close()"
   ]
  },
  {
   "cell_type": "code",
   "execution_count": 25,
   "id": "346704f3",
   "metadata": {},
   "outputs": [
    {
     "data": {
      "text/plain": [
       "'Current Time stamp:'"
      ]
     },
     "execution_count": 25,
     "metadata": {},
     "output_type": "execute_result"
    }
   ],
   "source": [
    "#2) Write another Python function to read from a textfile.The function will take the name of the text file and display\n",
    "# the content of the file into the console.\n",
    "\n",
    "f=open(r\"C:\\Users\\sahbi\\filehandling\\file3.txt.\",\"r\")\n",
    "f.read()"
   ]
  },
  {
   "cell_type": "code",
   "execution_count": null,
   "id": "2ed9643a",
   "metadata": {},
   "outputs": [],
   "source": []
  },
  {
   "cell_type": "code",
   "execution_count": null,
   "id": "e9775ab6",
   "metadata": {},
   "outputs": [],
   "source": []
  },
  {
   "cell_type": "code",
   "execution_count": null,
   "id": "c7f6b8d0",
   "metadata": {},
   "outputs": [],
   "source": []
  },
  {
   "cell_type": "code",
   "execution_count": null,
   "id": "fcbf60f1",
   "metadata": {},
   "outputs": [],
   "source": []
  },
  {
   "cell_type": "code",
   "execution_count": null,
   "id": "d049b45e",
   "metadata": {},
   "outputs": [],
   "source": []
  },
  {
   "cell_type": "code",
   "execution_count": null,
   "id": "27b36aec",
   "metadata": {},
   "outputs": [],
   "source": []
  },
  {
   "cell_type": "code",
   "execution_count": null,
   "id": "3f776e41",
   "metadata": {},
   "outputs": [],
   "source": []
  },
  {
   "cell_type": "code",
   "execution_count": null,
   "id": "5e9d59b5",
   "metadata": {},
   "outputs": [],
   "source": []
  }
 ],
 "metadata": {
  "kernelspec": {
   "display_name": "Python 3 (ipykernel)",
   "language": "python",
   "name": "python3"
  },
  "language_info": {
   "codemirror_mode": {
    "name": "ipython",
    "version": 3
   },
   "file_extension": ".py",
   "mimetype": "text/x-python",
   "name": "python",
   "nbconvert_exporter": "python",
   "pygments_lexer": "ipython3",
   "version": "3.11.4"
  }
 },
 "nbformat": 4,
 "nbformat_minor": 5
}
